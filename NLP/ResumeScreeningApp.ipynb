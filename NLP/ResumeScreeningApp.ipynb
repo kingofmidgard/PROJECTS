{
 "cells": [
  {
   "cell_type": "code",
   "execution_count": 4,
   "metadata": {},
   "outputs": [],
   "source": [
    "import numpy as np              #for numerical operations, primarily with arrays.\n",
    "import pandas as pd             #for data manipulation and analysis\n",
    "import matplotlib.pyplot as plt #for creating static, animated, and interactive visualizations\n",
    "import seaborn as sns           #for statistical data visualization built on top of matplotlib,\n",
    "                                #providing an interface for drawing attractive and informative statistical graphics."
   ]
  },
  {
   "cell_type": "code",
   "execution_count": 52,
   "metadata": {},
   "outputs": [],
   "source": [
    "df=pd.read_csv('UpdatedResumeDataSet.csv')\n",
    "# df is dataset.."
   ]
  },
  {
   "cell_type": "code",
   "execution_count": null,
   "metadata": {},
   "outputs": [],
   "source": [
    "df.shape\n",
    "#returns the dimensions of an array as a tuple"
   ]
  },
  {
   "cell_type": "code",
   "execution_count": null,
   "metadata": {},
   "outputs": [],
   "source": [
    "df.head()"
   ]
  },
  {
   "cell_type": "code",
   "execution_count": null,
   "metadata": {},
   "outputs": [],
   "source": [
    "df['Category'].value_counts() #all category in dataset.."
   ]
  },
  {
   "cell_type": "code",
   "execution_count": null,
   "metadata": {},
   "outputs": [],
   "source": [
    "#graphical repersentation of dataset..\n",
    "plt.figure(figsize=(15,15))  #setting breadth and height\n",
    "sns.countplot(df['Category'])\n",
    "# # Changing the orientation using `orient=\"h\"` to flip axes\n",
    "# sns.countplot(y=df['Category'], orient=\"h\")\n",
    "#plt.xticks(rotation=90)\n",
    "plt.show()"
   ]
  },
  {
   "cell_type": "code",
   "execution_count": null,
   "metadata": {},
   "outputs": [],
   "source": [
    "#PieChart repersentation of dataset..\n",
    "counts=df['Category'].value_counts() #counts the frequency of each unique value in the Category column.\n",
    "labels=df['Category'].unique()\n",
    "plt.figure(figsize=(10,10)) \n",
    "plt.pie(counts,labels=labels,autopct='%1.1f%%')\n",
    "plt.show()"
   ]
  },
  {
   "cell_type": "code",
   "execution_count": null,
   "metadata": {},
   "outputs": [],
   "source": [
    "print(df['Category'][292])\n",
    "print(df['Category'][0])"
   ]
  },
  {
   "cell_type": "code",
   "execution_count": null,
   "metadata": {},
   "outputs": [],
   "source": [
    "print(df['Resume'][3])\n",
    "print(\"-------------------------------------\")\n",
    "print(\"-------------------------------------\")\n",
    "print(\"-------------------------------------\")\n",
    "print(\"-------------------------------------\")\n",
    "print(df['Resume'][6])"
   ]
  },
  {
   "cell_type": "code",
   "execution_count": null,
   "metadata": {},
   "outputs": [],
   "source": [
    "#nltk ---> natural language tool-kit...\n",
    "%pip install nltk"
   ]
  },
  {
   "cell_type": "code",
   "execution_count": 95,
   "metadata": {},
   "outputs": [],
   "source": [
    "import nltk\n",
    "import string\n",
    "from nltk.corpus import stopwords\n",
    "from nltk.tokenize import word_tokenize"
   ]
  },
  {
   "cell_type": "code",
   "execution_count": null,
   "metadata": {},
   "outputs": [],
   "source": [
    "#Download NLTK resources for tokenization...\n",
    "nltk.download('punkt')\n",
    "nltk.download('stopwords')"
   ]
  },
  {
   "cell_type": "code",
   "execution_count": 98,
   "metadata": {},
   "outputs": [
    {
     "name": "stdout",
     "output_type": "stream",
     "text": [
      "Cleaned Resume Data:\n",
      "['data', 'science', 'assurance', 'associate', 'data', 'science', 'assurance', 'associate', 'ernst', 'young', 'llp', 'skills', 'programming', 'languages', 'python', 'sql', 'java', 'javascript', 'jquery']\n"
     ]
    }
   ],
   "source": [
    "\n",
    "\n",
    "# Sample resume text\n",
    "resume_text = \"\"\"\n",
    "Data Science Assurance Associate\n",
    "Data Science Assurance Associate - Ernst & Young LLP\n",
    "Skills: Programming Languages: Python, SQL, Java, JavaScript, JQuery...\n",
    "\"\"\"\n",
    "\n",
    "# Function to clean the text\n",
    "def clean_text(text):\n",
    "    # Convert to lowercase\n",
    "    text = text.lower()\n",
    "    \n",
    "    # Remove punctuation\n",
    "    text = text.translate(str.maketrans(\"\", \"\", string.punctuation))\n",
    "    \n",
    "    # Tokenize the text\n",
    "    tokens = word_tokenize(text)\n",
    "    \n",
    "    # Remove stopwords\n",
    "    stop_words = set(stopwords.words('english'))\n",
    "    cleaned_tokens = [word for word in tokens if word not in stop_words]\n",
    "    \n",
    "    return cleaned_tokens\n",
    "\n",
    "# Clean the resume text\n",
    "cleaned_resume = clean_text(resume_text)\n",
    "\n",
    "# Output the cleaned tokens\n",
    "print(\"Cleaned Resume Data:\")\n",
    "print(cleaned_resume)\n"
   ]
  },
  {
   "cell_type": "code",
   "execution_count": null,
   "metadata": {},
   "outputs": [],
   "source": []
  },
  {
   "cell_type": "code",
   "execution_count": null,
   "metadata": {},
   "outputs": [],
   "source": []
  },
  {
   "cell_type": "code",
   "execution_count": null,
   "metadata": {},
   "outputs": [],
   "source": []
  }
 ],
 "metadata": {
  "kernelspec": {
   "display_name": "Python 3",
   "language": "python",
   "name": "python3"
  },
  "language_info": {
   "codemirror_mode": {
    "name": "ipython",
    "version": 3
   },
   "file_extension": ".py",
   "mimetype": "text/x-python",
   "name": "python",
   "nbconvert_exporter": "python",
   "pygments_lexer": "ipython3",
   "version": "undefined.undefined.undefined"
  }
 },
 "nbformat": 4,
 "nbformat_minor": 2
}
